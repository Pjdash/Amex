{
 "cells": [
  {
   "cell_type": "markdown",
   "id": "64afec2a",
   "metadata": {},
   "source": [
    "### ***Importing Libraries***"
   ]
  },
  {
   "cell_type": "code",
   "execution_count": 2,
   "id": "7999acd4",
   "metadata": {},
   "outputs": [],
   "source": [
    "import pandas as pd\n",
    "from dateutil import parser\n",
    "import numpy as np\n",
    "import matplotlib.pyplot as plt"
   ]
  },
  {
   "cell_type": "markdown",
   "id": "7310d25b",
   "metadata": {},
   "source": [
    "### ***Reading Parquet File Format***"
   ]
  },
  {
   "cell_type": "code",
   "execution_count": 3,
   "id": "eba528b3",
   "metadata": {},
   "outputs": [],
   "source": [
    "df = pd.read_parquet(r\"C:\\Users\\kanis\\Downloads\\amex_offers_data.parquet\")"
   ]
  },
  {
   "cell_type": "markdown",
   "id": "c4c02900",
   "metadata": {},
   "source": [
    "### ***Naming Columns***"
   ]
  },
  {
   "cell_type": "code",
   "execution_count": 4,
   "id": "b1cbdbec",
   "metadata": {},
   "outputs": [],
   "source": [
    "df.columns = [\n",
    "    \"customer_id\",\n",
    "    \"offer_id\",\n",
    "    \"event_timestamp\",\n",
    "    \"event_date\",\n",
    "    \"offer_action\",\n",
    "    \n",
    "    \"interest_carrental\",\n",
    "    \"interest_coffee\",\n",
    "    \"interest_shipping_b2b\",\n",
    "    \"interest_photography_hobby\",\n",
    "    \"interest_warehouse_b2b\",\n",
    "    \"interest_construction_b2b\",\n",
    "    \"interest_furnishing_furniture\",\n",
    "    \"interest_restaurant_non_qsr\",\n",
    "    \"interest_airlines\",\n",
    "    \"interest_professional_service_b2b\",\n",
    "    \"interest_electronics\",\n",
    "    \"interest_homeimprovement_hobby\",\n",
    "    \n",
    "    \"login_channel_count_30d\",\n",
    "    \"emails_sent_30d\",\n",
    "    \"emails_clicked_30d\",\n",
    "    \"emails_opted_out_30d\",\n",
    "    \n",
    "    \"spend_lifestyle_3mo\",\n",
    "    \"spend_electronics_3mo\",\n",
    "    \"spend_restaurant_3mo\",\n",
    "    \n",
    "    \"debit_airline_30d\",\n",
    "    \"debit_entertainment_30d\",\n",
    "    \"debit_financial_30d\",\n",
    "    \"debit_oil_gas_30d\",\n",
    "    \"debit_lodging_30d\",\n",
    "    \"debit_restaurant_30d\",\n",
    "    \"debit_retail_30d\",\n",
    "    \"debit_travel_transport_rental_30d\",\n",
    "    \"debit_utilities_30d\",\n",
    "    \"debit_communication_30d\",\n",
    "    \"debit_everything_else_30d\",\n",
    "    \n",
    "    \"offer_clicked_3d_flag\",\n",
    "    \"min_spend_for_offer\",\n",
    "    \"merchant_offer_discount_rate\",\n",
    "    \"merchant_offer_discount_value\",\n",
    "    \"membership_reward_points\",\n",
    "    \"reward_points_per_dollar\",\n",
    "    \"discount_per_dollar\",\n",
    "    \n",
    "    \"offer_duration_diff\",\n",
    "    \"rolling_clicks_30d\",\n",
    "    \"rolling_impressions_30d\",\n",
    "    \"ctr_same_merchant_30d\",\n",
    "    \"avg_offer_ctr\",\n",
    "    \"impressions_offer_3d\",\n",
    "    \n",
    "    \"offer_category_business\",\n",
    "    \"offer_category_dining\",\n",
    "    \"offer_category_entertainment\",\n",
    "    \"offer_category_retail\",\n",
    "    \"offer_category_services\",\n",
    "    \"offer_category_shopping\",\n",
    "    \"offer_category_travel\"\n",
    "]\n"
   ]
  },
  {
   "cell_type": "markdown",
   "id": "3b1749c4",
   "metadata": {},
   "source": [
    "### ***Handling Null Values***"
   ]
  },
  {
   "cell_type": "code",
   "execution_count": 5,
   "id": "d8ed64b3",
   "metadata": {},
   "outputs": [],
   "source": [
    "df.replace([\"\", \"NULL\", \"N/A\", \"nan\",\"na\", \"None\"], pd.NA, inplace=True)"
   ]
  },
  {
   "cell_type": "markdown",
   "id": "568587bb",
   "metadata": {},
   "source": [
    "### ***Handling Booleans***"
   ]
  },
  {
   "cell_type": "code",
   "execution_count": 6,
   "id": "b5e02386",
   "metadata": {},
   "outputs": [],
   "source": [
    "df = df.replace({\"True\": 1, \"False\": 0})"
   ]
  },
  {
   "cell_type": "code",
   "execution_count": 7,
   "id": "456d1beb",
   "metadata": {},
   "outputs": [],
   "source": [
    "bool_cols = [\"offer_action\",\n",
    "            \"offer_category_business\",\n",
    "    \"offer_category_dining\",\n",
    "    \"offer_category_entertainment\",\n",
    "    \"offer_category_retail\",\n",
    "    \"offer_category_services\",\n",
    "    \"offer_category_shopping\",\n",
    "    \"offer_category_travel\"]\n",
    "\n",
    "for col in bool_cols:\n",
    "    df[col] = pd.to_numeric(df[col], errors='coerce') \n",
    "    df[col] = df[col].astype('Int64')  "
   ]
  },
  {
   "cell_type": "markdown",
   "id": "265aa577",
   "metadata": {},
   "source": [
    "### ***Handling Datatypes***"
   ]
  },
  {
   "cell_type": "code",
   "execution_count": 8,
   "id": "8ae53866",
   "metadata": {},
   "outputs": [],
   "source": [
    "columns = [\"customer_id\",\n",
    "    \"offer_id\",\n",
    "    \"offer_action\",\n",
    "    \n",
    "    \"interest_carrental\",\n",
    "    \"interest_coffee\",\n",
    "    \"interest_shipping_b2b\",\n",
    "    \"interest_photography_hobby\",\n",
    "    \"interest_warehouse_b2b\",\n",
    "    \"interest_construction_b2b\",\n",
    "    \"interest_furnishing_furniture\",\n",
    "    \"interest_restaurant_non_qsr\",\n",
    "    \"interest_airlines\",\n",
    "    \"interest_professional_service_b2b\",\n",
    "    \"interest_electronics\",\n",
    "    \"interest_homeimprovement_hobby\",\n",
    "    \n",
    "    \"login_channel_count_30d\",\n",
    "    \"emails_sent_30d\",\n",
    "    \"emails_clicked_30d\",\n",
    "    \"emails_opted_out_30d\",\n",
    "    \n",
    "    \"spend_lifestyle_3mo\",\n",
    "    \"spend_electronics_3mo\",\n",
    "    \"spend_restaurant_3mo\",\n",
    "    \n",
    "    \"debit_airline_30d\",\n",
    "    \"debit_entertainment_30d\",\n",
    "    \"debit_financial_30d\",\n",
    "    \"debit_oil_gas_30d\",\n",
    "    \"debit_lodging_30d\",\n",
    "    \"debit_restaurant_30d\",\n",
    "    \"debit_retail_30d\",\n",
    "    \"debit_travel_transport_rental_30d\",\n",
    "    \"debit_utilities_30d\",\n",
    "    \"debit_communication_30d\",\n",
    "    \"debit_everything_else_30d\",\n",
    "    \n",
    "    \"offer_clicked_3d_flag\",\n",
    "    \"min_spend_for_offer\",\n",
    "    \"merchant_offer_discount_rate\",\n",
    "    \"merchant_offer_discount_value\",\n",
    "    \"membership_reward_points\",\n",
    "    \"reward_points_per_dollar\",\n",
    "    \"discount_per_dollar\",\n",
    "    \n",
    "    \"offer_duration_diff\",\n",
    "    \"rolling_clicks_30d\",\n",
    "    \"rolling_impressions_30d\",\n",
    "    \"ctr_same_merchant_30d\",\n",
    "    \"avg_offer_ctr\",\n",
    "    \"impressions_offer_3d\",\n",
    "    ]"
   ]
  },
  {
   "cell_type": "code",
   "execution_count": 9,
   "id": "eeed691c",
   "metadata": {},
   "outputs": [],
   "source": [
    "for col in columns:\n",
    "    df[col] = pd.to_numeric(df[col], errors='coerce')"
   ]
  },
  {
   "cell_type": "markdown",
   "id": "fa0c3f61",
   "metadata": {},
   "source": [
    "### ***Handling Date Columns***"
   ]
  },
  {
   "cell_type": "code",
   "execution_count": 10,
   "id": "66f7b06a",
   "metadata": {},
   "outputs": [],
   "source": [
    "def safe_parse(x):\n",
    "    try:\n",
    "        return parser.parse(x, dayfirst=True)\n",
    "    except Exception:\n",
    "        return x  \n",
    "\n",
    "\n",
    "df['event_date'] = df['event_date'].apply(safe_parse)"
   ]
  },
  {
   "cell_type": "code",
   "execution_count": 11,
   "id": "29c5e0d3",
   "metadata": {},
   "outputs": [],
   "source": [
    "df.drop(columns=\"event_timestamp\", inplace = True)"
   ]
  },
  {
   "cell_type": "markdown",
   "id": "9daf8633",
   "metadata": {},
   "source": [
    "### ***Handling Duplicates***"
   ]
  },
  {
   "cell_type": "code",
   "execution_count": 12,
   "id": "955b6521",
   "metadata": {},
   "outputs": [],
   "source": [
    "df = df.drop_duplicates()"
   ]
  },
  {
   "cell_type": "markdown",
   "id": "4aad53b3",
   "metadata": {},
   "source": [
    "### ***Handling Negative Values***"
   ]
  },
  {
   "cell_type": "markdown",
   "id": "b821fca0",
   "metadata": {},
   "source": [
    "#### No need to make spend columns positive in order to retain true spending behaviour of a customer."
   ]
  },
  {
   "cell_type": "code",
   "execution_count": 13,
   "id": "71e90871",
   "metadata": {},
   "outputs": [
    {
     "name": "stdout",
     "output_type": "stream",
     "text": [
      "No. of negatives in customer_id\n",
      "0\n",
      "\n",
      "No. of negatives in offer_id\n",
      "0\n",
      "\n",
      "No. of negatives in offer_action\n",
      "0\n",
      "\n",
      "No. of negatives in interest_carrental\n",
      "0\n",
      "\n",
      "No. of negatives in interest_coffee\n",
      "0\n",
      "\n",
      "No. of negatives in interest_shipping_b2b\n",
      "0\n",
      "\n",
      "No. of negatives in interest_photography_hobby\n",
      "0\n",
      "\n",
      "No. of negatives in interest_warehouse_b2b\n",
      "0\n",
      "\n",
      "No. of negatives in interest_construction_b2b\n",
      "0\n",
      "\n",
      "No. of negatives in interest_furnishing_furniture\n",
      "0\n",
      "\n",
      "No. of negatives in interest_restaurant_non_qsr\n",
      "0\n",
      "\n",
      "No. of negatives in interest_airlines\n",
      "0\n",
      "\n",
      "No. of negatives in interest_professional_service_b2b\n",
      "0\n",
      "\n",
      "No. of negatives in interest_electronics\n",
      "0\n",
      "\n",
      "No. of negatives in interest_homeimprovement_hobby\n",
      "0\n",
      "\n",
      "No. of negatives in login_channel_count_30d\n",
      "0\n",
      "\n",
      "No. of negatives in emails_sent_30d\n",
      "0\n",
      "\n",
      "No. of negatives in emails_clicked_30d\n",
      "0\n",
      "\n",
      "No. of negatives in emails_opted_out_30d\n",
      "0\n",
      "\n",
      "No. of negatives in spend_lifestyle_3mo\n",
      "31572\n",
      "\n",
      "No. of negatives in spend_electronics_3mo\n",
      "3480\n",
      "\n",
      "No. of negatives in spend_restaurant_3mo\n",
      "2091\n",
      "\n",
      "No. of negatives in debit_airline_30d\n",
      "0\n",
      "\n",
      "No. of negatives in debit_entertainment_30d\n",
      "0\n",
      "\n",
      "No. of negatives in debit_financial_30d\n",
      "0\n",
      "\n",
      "No. of negatives in debit_oil_gas_30d\n",
      "0\n",
      "\n",
      "No. of negatives in debit_lodging_30d\n",
      "0\n",
      "\n",
      "No. of negatives in debit_restaurant_30d\n",
      "0\n",
      "\n",
      "No. of negatives in debit_retail_30d\n",
      "0\n",
      "\n",
      "No. of negatives in debit_travel_transport_rental_30d\n",
      "0\n",
      "\n",
      "No. of negatives in debit_utilities_30d\n",
      "0\n",
      "\n",
      "No. of negatives in debit_communication_30d\n",
      "0\n",
      "\n",
      "No. of negatives in debit_everything_else_30d\n",
      "0\n",
      "\n",
      "No. of negatives in offer_clicked_3d_flag\n",
      "0\n",
      "\n",
      "No. of negatives in min_spend_for_offer\n",
      "0\n",
      "\n",
      "No. of negatives in merchant_offer_discount_rate\n",
      "0\n",
      "\n",
      "No. of negatives in merchant_offer_discount_value\n",
      "0\n",
      "\n",
      "No. of negatives in membership_reward_points\n",
      "0\n",
      "\n",
      "No. of negatives in reward_points_per_dollar\n",
      "5230\n",
      "\n",
      "No. of negatives in discount_per_dollar\n",
      "0\n",
      "\n",
      "No. of negatives in offer_duration_diff\n",
      "0\n",
      "\n",
      "No. of negatives in rolling_clicks_30d\n",
      "0\n",
      "\n",
      "No. of negatives in rolling_impressions_30d\n",
      "0\n",
      "\n",
      "No. of negatives in ctr_same_merchant_30d\n",
      "0\n",
      "\n",
      "No. of negatives in avg_offer_ctr\n",
      "0\n",
      "\n",
      "No. of negatives in impressions_offer_3d\n",
      "0\n",
      "\n"
     ]
    }
   ],
   "source": [
    "for col in columns:\n",
    "    print(f\"No. of negatives in {col}\")\n",
    "    print(df[df[col]<0][col].count())\n",
    "    print()"
   ]
  },
  {
   "cell_type": "code",
   "execution_count": 14,
   "id": "9fb6b8bc",
   "metadata": {},
   "outputs": [],
   "source": [
    "df[\"reward_points_per_dollar\"] = df[\"reward_points_per_dollar\"].apply(np.abs)"
   ]
  },
  {
   "cell_type": "markdown",
   "id": "9271b2f1",
   "metadata": {},
   "source": [
    "### ***Saving Cleaned Data***"
   ]
  },
  {
   "cell_type": "code",
   "execution_count": 15,
   "id": "6f21f0bf",
   "metadata": {},
   "outputs": [],
   "source": [
    "df.to_csv(\"customers_offers_data.csv\", index=False)"
   ]
  },
  {
   "cell_type": "markdown",
   "id": "6ab85c0a",
   "metadata": {},
   "source": [
    "### ***EDA***"
   ]
  },
  {
   "cell_type": "code",
   "execution_count": 17,
   "id": "2f86a703",
   "metadata": {},
   "outputs": [
    {
     "data": {
      "text/html": [
       "<div>\n",
       "<style scoped>\n",
       "    .dataframe tbody tr th:only-of-type {\n",
       "        vertical-align: middle;\n",
       "    }\n",
       "\n",
       "    .dataframe tbody tr th {\n",
       "        vertical-align: top;\n",
       "    }\n",
       "\n",
       "    .dataframe thead th {\n",
       "        text-align: right;\n",
       "    }\n",
       "</style>\n",
       "<table border=\"1\" class=\"dataframe\">\n",
       "  <thead>\n",
       "    <tr style=\"text-align: right;\">\n",
       "      <th></th>\n",
       "      <th>customer_id</th>\n",
       "      <th>offer_id</th>\n",
       "      <th>event_date</th>\n",
       "      <th>offer_action</th>\n",
       "      <th>interest_carrental</th>\n",
       "      <th>interest_coffee</th>\n",
       "      <th>interest_shipping_b2b</th>\n",
       "      <th>interest_photography_hobby</th>\n",
       "      <th>interest_warehouse_b2b</th>\n",
       "      <th>interest_construction_b2b</th>\n",
       "      <th>...</th>\n",
       "      <th>ctr_same_merchant_30d</th>\n",
       "      <th>avg_offer_ctr</th>\n",
       "      <th>impressions_offer_3d</th>\n",
       "      <th>offer_category_business</th>\n",
       "      <th>offer_category_dining</th>\n",
       "      <th>offer_category_entertainment</th>\n",
       "      <th>offer_category_retail</th>\n",
       "      <th>offer_category_services</th>\n",
       "      <th>offer_category_shopping</th>\n",
       "      <th>offer_category_travel</th>\n",
       "    </tr>\n",
       "  </thead>\n",
       "  <tbody>\n",
       "    <tr>\n",
       "      <th>0</th>\n",
       "      <td>1010494</td>\n",
       "      <td>601711</td>\n",
       "      <td>2023-01-11</td>\n",
       "      <td>1</td>\n",
       "      <td>NaN</td>\n",
       "      <td>NaN</td>\n",
       "      <td>NaN</td>\n",
       "      <td>NaN</td>\n",
       "      <td>NaN</td>\n",
       "      <td>NaN</td>\n",
       "      <td>...</td>\n",
       "      <td>0.089583</td>\n",
       "      <td>0.083204</td>\n",
       "      <td>2151.0</td>\n",
       "      <td>0</td>\n",
       "      <td>0</td>\n",
       "      <td>0</td>\n",
       "      <td>0</td>\n",
       "      <td>0</td>\n",
       "      <td>1</td>\n",
       "      <td>0</td>\n",
       "    </tr>\n",
       "    <tr>\n",
       "      <th>1</th>\n",
       "      <td>1010494</td>\n",
       "      <td>33452</td>\n",
       "      <td>2023-09-11</td>\n",
       "      <td>0</td>\n",
       "      <td>NaN</td>\n",
       "      <td>NaN</td>\n",
       "      <td>NaN</td>\n",
       "      <td>NaN</td>\n",
       "      <td>NaN</td>\n",
       "      <td>NaN</td>\n",
       "      <td>...</td>\n",
       "      <td>0.111752</td>\n",
       "      <td>0.181776</td>\n",
       "      <td>1668.0</td>\n",
       "      <td>0</td>\n",
       "      <td>0</td>\n",
       "      <td>0</td>\n",
       "      <td>0</td>\n",
       "      <td>0</td>\n",
       "      <td>1</td>\n",
       "      <td>0</td>\n",
       "    </tr>\n",
       "    <tr>\n",
       "      <th>2</th>\n",
       "      <td>1010494</td>\n",
       "      <td>88456737</td>\n",
       "      <td>2023-01-11</td>\n",
       "      <td>1</td>\n",
       "      <td>NaN</td>\n",
       "      <td>NaN</td>\n",
       "      <td>NaN</td>\n",
       "      <td>NaN</td>\n",
       "      <td>NaN</td>\n",
       "      <td>NaN</td>\n",
       "      <td>...</td>\n",
       "      <td>0.088514</td>\n",
       "      <td>NaN</td>\n",
       "      <td>NaN</td>\n",
       "      <td>0</td>\n",
       "      <td>0</td>\n",
       "      <td>0</td>\n",
       "      <td>0</td>\n",
       "      <td>0</td>\n",
       "      <td>1</td>\n",
       "      <td>0</td>\n",
       "    </tr>\n",
       "    <tr>\n",
       "      <th>3</th>\n",
       "      <td>1010494</td>\n",
       "      <td>390981</td>\n",
       "      <td>2023-01-11</td>\n",
       "      <td>1</td>\n",
       "      <td>NaN</td>\n",
       "      <td>NaN</td>\n",
       "      <td>NaN</td>\n",
       "      <td>NaN</td>\n",
       "      <td>NaN</td>\n",
       "      <td>NaN</td>\n",
       "      <td>...</td>\n",
       "      <td>0.086931</td>\n",
       "      <td>0.059246</td>\n",
       "      <td>3678.0</td>\n",
       "      <td>0</td>\n",
       "      <td>0</td>\n",
       "      <td>0</td>\n",
       "      <td>0</td>\n",
       "      <td>0</td>\n",
       "      <td>1</td>\n",
       "      <td>0</td>\n",
       "    </tr>\n",
       "    <tr>\n",
       "      <th>4</th>\n",
       "      <td>1010494</td>\n",
       "      <td>7114</td>\n",
       "      <td>2023-09-11</td>\n",
       "      <td>0</td>\n",
       "      <td>NaN</td>\n",
       "      <td>NaN</td>\n",
       "      <td>NaN</td>\n",
       "      <td>NaN</td>\n",
       "      <td>NaN</td>\n",
       "      <td>NaN</td>\n",
       "      <td>...</td>\n",
       "      <td>0.089497</td>\n",
       "      <td>0.124221</td>\n",
       "      <td>3619.0</td>\n",
       "      <td>0</td>\n",
       "      <td>0</td>\n",
       "      <td>0</td>\n",
       "      <td>0</td>\n",
       "      <td>0</td>\n",
       "      <td>1</td>\n",
       "      <td>0</td>\n",
       "    </tr>\n",
       "  </tbody>\n",
       "</table>\n",
       "<p>5 rows × 54 columns</p>\n",
       "</div>"
      ],
      "text/plain": [
       "   customer_id  offer_id event_date  offer_action  interest_carrental  \\\n",
       "0      1010494    601711 2023-01-11             1                 NaN   \n",
       "1      1010494     33452 2023-09-11             0                 NaN   \n",
       "2      1010494  88456737 2023-01-11             1                 NaN   \n",
       "3      1010494    390981 2023-01-11             1                 NaN   \n",
       "4      1010494      7114 2023-09-11             0                 NaN   \n",
       "\n",
       "   interest_coffee  interest_shipping_b2b  interest_photography_hobby  \\\n",
       "0              NaN                    NaN                         NaN   \n",
       "1              NaN                    NaN                         NaN   \n",
       "2              NaN                    NaN                         NaN   \n",
       "3              NaN                    NaN                         NaN   \n",
       "4              NaN                    NaN                         NaN   \n",
       "\n",
       "   interest_warehouse_b2b  interest_construction_b2b  ...  \\\n",
       "0                     NaN                        NaN  ...   \n",
       "1                     NaN                        NaN  ...   \n",
       "2                     NaN                        NaN  ...   \n",
       "3                     NaN                        NaN  ...   \n",
       "4                     NaN                        NaN  ...   \n",
       "\n",
       "   ctr_same_merchant_30d  avg_offer_ctr  impressions_offer_3d  \\\n",
       "0               0.089583       0.083204                2151.0   \n",
       "1               0.111752       0.181776                1668.0   \n",
       "2               0.088514            NaN                   NaN   \n",
       "3               0.086931       0.059246                3678.0   \n",
       "4               0.089497       0.124221                3619.0   \n",
       "\n",
       "   offer_category_business  offer_category_dining  \\\n",
       "0                        0                      0   \n",
       "1                        0                      0   \n",
       "2                        0                      0   \n",
       "3                        0                      0   \n",
       "4                        0                      0   \n",
       "\n",
       "   offer_category_entertainment  offer_category_retail  \\\n",
       "0                             0                      0   \n",
       "1                             0                      0   \n",
       "2                             0                      0   \n",
       "3                             0                      0   \n",
       "4                             0                      0   \n",
       "\n",
       "   offer_category_services  offer_category_shopping  offer_category_travel  \n",
       "0                        0                        1                      0  \n",
       "1                        0                        1                      0  \n",
       "2                        0                        1                      0  \n",
       "3                        0                        1                      0  \n",
       "4                        0                        1                      0  \n",
       "\n",
       "[5 rows x 54 columns]"
      ]
     },
     "execution_count": 17,
     "metadata": {},
     "output_type": "execute_result"
    }
   ],
   "source": [
    "df.head()"
   ]
  },
  {
   "cell_type": "markdown",
   "id": "2ce22c64",
   "metadata": {},
   "source": [
    "### Question 1 : Using the Data Provided, validate the following statements: ( Note : Active User of Amex Portal for a provided timeframe are people who have visited the Amex Portal at least once in the past 30 days from any given date within the provided timeframe)\n",
    "\n",
    "\n"
   ]
  },
  {
   "cell_type": "markdown",
   "id": "d28ecbaf",
   "metadata": {},
   "source": [
    "#### 1. Active Users of Amex Portal are more likely to choose Airline Offers than another offer category"
   ]
  },
  {
   "cell_type": "code",
   "execution_count": 15,
   "id": "bc246e43",
   "metadata": {},
   "outputs": [
    {
     "data": {
      "text/plain": [
       "1768311"
      ]
     },
     "execution_count": 15,
     "metadata": {},
     "output_type": "execute_result"
    }
   ],
   "source": [
    "df.shape[0]"
   ]
  },
  {
   "cell_type": "code",
   "execution_count": 16,
   "id": "c38dc47b",
   "metadata": {},
   "outputs": [
    {
     "data": {
      "text/plain": [
       "1194240"
      ]
     },
     "execution_count": 16,
     "metadata": {},
     "output_type": "execute_result"
    }
   ],
   "source": [
    "df_active = df[df['login_channel_count_30d'] >= 1]\n",
    "df_active.shape[0]"
   ]
  },
  {
   "cell_type": "code",
   "execution_count": 17,
   "id": "566a781d",
   "metadata": {},
   "outputs": [
    {
     "data": {
      "text/plain": [
       "80821"
      ]
     },
     "execution_count": 17,
     "metadata": {},
     "output_type": "execute_result"
    }
   ],
   "source": [
    "df_chose_offer = df_active[df_active[\"offer_action\"]==1]\n",
    "df_chose_offer.shape[0]"
   ]
  },
  {
   "cell_type": "code",
   "execution_count": 18,
   "id": "9497e46e",
   "metadata": {},
   "outputs": [],
   "source": [
    "offer_categories = ['offer_category_business', 'offer_category_dining',\n",
    "                    'offer_category_entertainment', 'offer_category_retail',\n",
    "                    'offer_category_services', 'offer_category_shopping',\n",
    "                    'offer_category_travel']"
   ]
  },
  {
   "cell_type": "code",
   "execution_count": 19,
   "id": "8ddaea65",
   "metadata": {},
   "outputs": [
    {
     "data": {
      "text/plain": [
       "{'offer_category_business': 0,\n",
       " 'offer_category_dining': 3973,\n",
       " 'offer_category_entertainment': 3454,\n",
       " 'offer_category_retail': 0,\n",
       " 'offer_category_services': 4555,\n",
       " 'offer_category_shopping': 64976,\n",
       " 'offer_category_travel': 5750}"
      ]
     },
     "execution_count": 19,
     "metadata": {},
     "output_type": "execute_result"
    }
   ],
   "source": [
    "offer_cat_dict = {}\n",
    "for offer in offer_categories:\n",
    "        count = df_chose_offer[df_chose_offer[offer] == 1]\n",
    "        offer_cat_dict[offer] = count.shape[0]\n",
    "offer_cat_dict"
   ]
  },
  {
   "cell_type": "code",
   "execution_count": 20,
   "id": "56931507",
   "metadata": {},
   "outputs": [
    {
     "data": {
      "image/png": "[encoded data removed]",
      "text/plain": [
       "<Figure size 640x480 with 1 Axes>"
      ]
     },
     "metadata": {},
     "output_type": "display_data"
    }
   ],
   "source": [
    "# cat VS no. of customers\n",
    "plt.bar(offer_cat_dict.keys(), offer_cat_dict.values(), color='skyblue')\n",
    "plt.xlabel('offer category')\n",
    "plt.ylabel('no. of offers clicked')\n",
    "plt.xticks(rotation=90)  \n",
    "plt.tight_layout()\n",
    "plt.show()"
   ]
  },
  {
   "cell_type": "markdown",
   "id": "05a89621",
   "metadata": {},
   "source": [
    "- Based on user behavior, only 7.1% (5,750 / 80,821) of active users who chose offers selected travel (airline) offers, whereas over 80% selected shopping offers.\n",
    "Hence, airline offers are significantly less preferred compared to shopping, services, dining, or entertainment categories among active Amex Portal users."
   ]
  },
  {
   "cell_type": "markdown",
   "id": "c7240e33",
   "metadata": {},
   "source": [
    "#### 2. Active Users of Amex Portal are generally able to save more money from Discounts than other users.\n"
   ]
  },
  {
   "cell_type": "code",
   "execution_count": 21,
   "id": "2d8e0d20",
   "metadata": {},
   "outputs": [],
   "source": [
    "df[\"type_of_cust\"] = df['login_channel_count_30d'].apply(lambda x: 'active' if pd.notna(x) and x >= 1 else 'inactive')"
   ]
  },
  {
   "cell_type": "code",
   "execution_count": 22,
   "id": "df3ebab4",
   "metadata": {},
   "outputs": [],
   "source": [
    "df['total_spend_3mo'] = df[['spend_lifestyle_3mo', 'spend_electronics_3mo', 'spend_restaurant_3mo']].sum(axis=1)"
   ]
  },
  {
   "cell_type": "code",
   "execution_count": 23,
   "id": "6394dfdd",
   "metadata": {},
   "outputs": [],
   "source": [
    "df[\"saved_money\"] = df[\"total_spend_3mo\"]*df[\"discount_per_dollar\"]"
   ]
  },
  {
   "cell_type": "code",
   "execution_count": 24,
   "id": "d364acda",
   "metadata": {},
   "outputs": [
    {
     "data": {
      "text/plain": [
       "saved_money\n",
       "0.000000      131879\n",
       "27.000000        788\n",
       "113.408000       657\n",
       "296.960000       597\n",
       "16.572000        556\n",
       "               ...  \n",
       "169.646400         1\n",
       "230.811429         1\n",
       "326.243077         1\n",
       "151.470000         1\n",
       "141.608013         1\n",
       "Name: count, Length: 193736, dtype: int64"
      ]
     },
     "execution_count": 24,
     "metadata": {},
     "output_type": "execute_result"
    }
   ],
   "source": [
    "df[\"saved_money\"].value_counts()"
   ]
  },
  {
   "cell_type": "code",
   "execution_count": 25,
   "id": "27a59dea",
   "metadata": {},
   "outputs": [
    {
     "data": {
      "text/plain": [
       "type_of_cust\n",
       "active      783.774133\n",
       "inactive    414.820797\n",
       "Name: saved_money, dtype: float64"
      ]
     },
     "execution_count": 25,
     "metadata": {},
     "output_type": "execute_result"
    }
   ],
   "source": [
    "df.groupby(df[\"type_of_cust\"])[\"saved_money\"].mean()"
   ]
  },
  {
   "cell_type": "code",
   "execution_count": 26,
   "id": "bbbb3f37",
   "metadata": {},
   "outputs": [
    {
     "data": {
      "image/png": "[encoded data removed]",
      "text/plain": [
       "<Figure size 800x500 with 1 Axes>"
      ]
     },
     "metadata": {},
     "output_type": "display_data"
    }
   ],
   "source": [
    "avg_savings = df.groupby('type_of_cust')['saved_money'].mean()\n",
    "\n",
    "# Plot bar chart\n",
    "plt.figure(figsize=(8, 5))\n",
    "avg_savings.plot(kind='bar', color='skyblue')\n",
    "\n",
    "plt.title('Average Saved Money by Customer Type')\n",
    "plt.xlabel('Customer Type')\n",
    "plt.ylabel('Average Saved Money')\n",
    "plt.xticks(rotation=45)  \n",
    "plt.tight_layout()       \n",
    "\n",
    "plt.show()\n",
    "\n"
   ]
  },
  {
   "cell_type": "markdown",
   "id": "4c43457a",
   "metadata": {},
   "source": [
    "#### 3. Mention Total Population of unique customer IDs out of total customers who actively use Amex Portal and have clicked on an Airline Offer.\n"
   ]
  },
  {
   "cell_type": "code",
   "execution_count": 27,
   "id": "f34bce06",
   "metadata": {},
   "outputs": [],
   "source": [
    "offer_clicked_airline = df_chose_offer[df_chose_offer[\"offer_category_travel\"] == 1]"
   ]
  },
  {
   "cell_type": "code",
   "execution_count": 28,
   "id": "c0ab2314",
   "metadata": {},
   "outputs": [
    {
     "data": {
      "text/plain": [
       "2736"
      ]
     },
     "execution_count": 28,
     "metadata": {},
     "output_type": "execute_result"
    }
   ],
   "source": [
    "offer_clicked_airline['customer_id'].nunique()"
   ]
  },
  {
   "cell_type": "markdown",
   "id": "b2a68817",
   "metadata": {},
   "source": [
    "- While a significant portion of active users engaged with various offers, airline-related offers attracted only a small fraction (3.39%) of them. This suggests that airline offers may not be the primary interest or incentive for most active users on the Amex portal."
   ]
  },
  {
   "cell_type": "markdown",
   "id": "87cfe339",
   "metadata": {},
   "source": [
    "### Question 2 : Does the customer value a 'High Discount Value per Dollar' offer more for the following categories:\n",
    "Note:\n",
    "Exclude the offers with no Discount Value per dollar for the analysis.\n",
    "High Disc Value per Dollar Offers are represented by Offers with Disc Value per Dollar >= 50th Percentile.\n",
    "Low Disc Value per Dollar Offers are represented by Offers with Disc Value per Dollar < 50th Percentile.\n",
    "Share the difference of successful offer conversions rates for [High Disc Value per Dollar – Low Disc Value per Dollar ] offers across the following offer categories.\n",
    "\n"
   ]
  },
  {
   "cell_type": "markdown",
   "id": "f83ef2a4",
   "metadata": {},
   "source": [
    "1. Services\n",
    "2. Shopping\n",
    "3. Travel"
   ]
  },
  {
   "cell_type": "code",
   "execution_count": 29,
   "id": "ce836806",
   "metadata": {},
   "outputs": [],
   "source": [
    "categories = [ 'offer_category_services',\n",
    "              'offer_category_shopping',\n",
    "              'offer_category_travel',]"
   ]
  },
  {
   "cell_type": "code",
   "execution_count": 30,
   "id": "937feec0",
   "metadata": {},
   "outputs": [],
   "source": [
    "# HIGH and LOW discount offers\n",
    "median = df[\"discount_per_dollar\"].median()\n",
    "df[\"offer_type\"] = df[\"discount_per_dollar\"].apply(lambda x: \"HIGH\" if pd.notna(x) and x>= median else (\"LOW\" if pd.notna(x) and x < median else np.nan))"
   ]
  },
  {
   "cell_type": "code",
   "execution_count": 31,
   "id": "853e5c04",
   "metadata": {},
   "outputs": [
    {
     "name": "stdout",
     "output_type": "stream",
     "text": [
      "Services: HIGH = 0.0495, LOW = 0.0595, Difference = -0.0099\n",
      "Shopping: HIGH = 0.0537, LOW = 0.0908, Difference = -0.0371\n",
      "Travel: HIGH = 0.0681, LOW = 0.2298, Difference = -0.1617\n"
     ]
    }
   ],
   "source": [
    "def conversion_rate_by_offer_type(df_subset, category_col):\n",
    "    results = {}\n",
    "    for level in [\"HIGH\", \"LOW\"]:\n",
    "        # Subset where category is 1 and offer_type matches the level\n",
    "        subset = df_subset[(df_subset[category_col] == 1) & \n",
    "                           (df_subset[\"offer_type\"] == level) & \n",
    "                           (df_subset[\"offer_action\"].notna())]\n",
    "        \n",
    "        total = len(subset)\n",
    "        converted = subset[subset[\"offer_action\"] == 1].shape[0]\n",
    "        \n",
    "        results[level] = converted / total if total > 0 else 0\n",
    "    return results\n",
    "\n",
    "# Define categories to evaluate\n",
    "categories = {\n",
    "    \"Services\": \"offer_category_services\",\n",
    "    \"Shopping\": \"offer_category_shopping\",\n",
    "    \"Travel\": \"offer_category_travel\"\n",
    "}\n",
    "\n",
    "# Print conversion rate differences for each category\n",
    "for name, col in categories.items():\n",
    "    rates = conversion_rate_by_offer_type(df, col)\n",
    "    diff = rates[\"HIGH\"] - rates[\"LOW\"]\n",
    "    print(f\"{name}: HIGH = {rates['HIGH']:.4f}, LOW = {rates['LOW']:.4f}, Difference = {diff:.4f}\")\n",
    "\n"
   ]
  },
  {
   "cell_type": "markdown",
   "id": "6bca477a",
   "metadata": {},
   "source": [
    "### Question 3 : Let Spending of a customer be defined by the Maximum of spend amount spent by customer in last 3 months for any given  Timeframe. Divide the Customer Population into Low, Medium & High Spending category by referring to Entire Timeframe of Provided data  ensuring equal number of distinct customers per category.\n",
    "\n",
    "\n",
    "\n"
   ]
  },
  {
   "cell_type": "markdown",
   "id": "5e161599",
   "metadata": {},
   "source": [
    "#### 1. Calculate the Average Reward Point to Dollar Value Conversion Rate of the offers offered to each of these categories."
   ]
  },
  {
   "cell_type": "code",
   "execution_count": 32,
   "id": "22114092",
   "metadata": {},
   "outputs": [],
   "source": [
    "df[\"max_spend_3mo\"] = df[[\n",
    "    'spend_lifestyle_3mo', 'spend_electronics_3mo', 'spend_restaurant_3mo'\n",
    "]].sum(axis=1)\n",
    "\n",
    "max_spend_per_customer = df.groupby('customer_id')['max_spend_3mo'].max().reset_index()"
   ]
  },
  {
   "cell_type": "code",
   "execution_count": 33,
   "id": "0250d466",
   "metadata": {},
   "outputs": [],
   "source": [
    "max_spend_per_customer['spend_category'] = pd.qcut(\n",
    "    max_spend_per_customer['max_spend_3mo'], \n",
    "    q=3, \n",
    "    labels=['LOW', 'MEDIUM', 'HIGH']\n",
    ")\n"
   ]
  },
  {
   "cell_type": "code",
   "execution_count": 34,
   "id": "edcd04d7",
   "metadata": {},
   "outputs": [
    {
     "name": "stderr",
     "output_type": "stream",
     "text": [
      "C:\\Users\\kanis\\AppData\\Local\\Temp\\ipykernel_17524\\2829278690.py:2: FutureWarning: The default of observed=False is deprecated and will be changed to True in a future version of pandas. Pass observed=False to retain current behavior or observed=True to adopt the future default and silence this warning.\n",
      "  q1 = df.groupby('spend_category')['reward_points_per_dollar'].mean().apply(lambda x: round(x, 3))\n"
     ]
    }
   ],
   "source": [
    "df = df.merge(max_spend_per_customer[['customer_id', 'spend_category']], on='customer_id', how='left')\n",
    "q1 = df.groupby('spend_category')['reward_points_per_dollar'].mean().apply(lambda x: round(x, 3))"
   ]
  },
  {
   "cell_type": "code",
   "execution_count": 35,
   "id": "7e3b5746",
   "metadata": {},
   "outputs": [
    {
     "data": {
      "text/plain": [
       "spend_category\n",
       "LOW       21.317\n",
       "MEDIUM    21.172\n",
       "HIGH      21.156\n",
       "Name: reward_points_per_dollar, dtype: float64"
      ]
     },
     "execution_count": 35,
     "metadata": {},
     "output_type": "execute_result"
    }
   ],
   "source": [
    "q1"
   ]
  },
  {
   "cell_type": "markdown",
   "id": "32a9614d",
   "metadata": {},
   "source": [
    "#### 2. Calculate the Average Reward Point to Dollar Value Conversion Rate of the offers in each of these categories that customer has participated in.\n",
    "\n"
   ]
  },
  {
   "cell_type": "code",
   "execution_count": 36,
   "id": "8681897a",
   "metadata": {},
   "outputs": [
    {
     "name": "stderr",
     "output_type": "stream",
     "text": [
      "C:\\Users\\kanis\\AppData\\Local\\Temp\\ipykernel_17524\\1256789327.py:2: FutureWarning: The default of observed=False is deprecated and will be changed to True in a future version of pandas. Pass observed=False to retain current behavior or observed=True to adopt the future default and silence this warning.\n",
      "  q2 = participated.groupby('spend_category')['reward_points_per_dollar'].mean().apply(lambda x: round(x, 3))\n"
     ]
    }
   ],
   "source": [
    "participated = df[df['offer_action'] == 1]\n",
    "q2 = participated.groupby('spend_category')['reward_points_per_dollar'].mean().apply(lambda x: round(x, 3))\n"
   ]
  },
  {
   "cell_type": "code",
   "execution_count": 37,
   "id": "cda85f07",
   "metadata": {},
   "outputs": [
    {
     "data": {
      "text/plain": [
       "spend_category\n",
       "LOW       21.759\n",
       "MEDIUM    21.660\n",
       "HIGH      21.325\n",
       "Name: reward_points_per_dollar, dtype: float64"
      ]
     },
     "execution_count": 37,
     "metadata": {},
     "output_type": "execute_result"
    }
   ],
   "source": [
    "q2"
   ]
  },
  {
   "cell_type": "markdown",
   "id": "15260df3",
   "metadata": {},
   "source": [
    "#### 3. Amongst these categories which segment performed the best for Amex in terms of offers rolled out vs offers participated in.\n",
    "Note : Spends can be negative as well (indicative of cases where money is credited to the customer account)"
   ]
  },
  {
   "cell_type": "code",
   "execution_count": 38,
   "id": "170b0f2c",
   "metadata": {},
   "outputs": [
    {
     "name": "stderr",
     "output_type": "stream",
     "text": [
      "C:\\Users\\kanis\\AppData\\Local\\Temp\\ipykernel_17524\\1219898623.py:2: FutureWarning: The default of observed=False is deprecated and will be changed to True in a future version of pandas. Pass observed=False to retain current behavior or observed=True to adopt the future default and silence this warning.\n",
      "  participated = df[df['offer_action'] == 1].groupby('spend_category')['offer_action'].count()\n"
     ]
    }
   ],
   "source": [
    "rolled_out = df[\"offer_action\"].count()\n",
    "participated = df[df['offer_action'] == 1].groupby('spend_category')['offer_action'].count()\n",
    "conversion_rate = (participated / rolled_out).fillna(0)\n",
    "best_segment = conversion_rate.idxmax()"
   ]
  },
  {
   "cell_type": "code",
   "execution_count": 39,
   "id": "8993ccaf",
   "metadata": {},
   "outputs": [
    {
     "data": {
      "text/plain": [
       "spend_category\n",
       "LOW       0.025093\n",
       "MEDIUM    0.021535\n",
       "HIGH      0.020462\n",
       "Name: offer_action, dtype: Float64"
      ]
     },
     "execution_count": 39,
     "metadata": {},
     "output_type": "execute_result"
    }
   ],
   "source": [
    "conversion_rate"
   ]
  },
  {
   "cell_type": "code",
   "execution_count": 40,
   "id": "0a43b935",
   "metadata": {},
   "outputs": [
    {
     "data": {
      "text/plain": [
       "'LOW'"
      ]
     },
     "execution_count": 40,
     "metadata": {},
     "output_type": "execute_result"
    }
   ],
   "source": [
    "best_segment"
   ]
  },
  {
   "cell_type": "markdown",
   "id": "83d7b14a",
   "metadata": {},
   "source": [
    "### Question 4 : Using the data, build top 10 offer profile basis the offer conversion rate. [Offer conversion rate = Number of Offers Clicked/ Number of Offers viewed]\n"
   ]
  },
  {
   "cell_type": "markdown",
   "id": "084bdc6b",
   "metadata": {},
   "source": [
    "#### 1. Share top 10 Offer ID to Offer category mappings.\n"
   ]
  },
  {
   "cell_type": "code",
   "execution_count": 52,
   "id": "2272f897",
   "metadata": {},
   "outputs": [],
   "source": [
    "offer_stats = df.groupby('offer_id').agg(\n",
    "    views=('offer_action', 'count'),\n",
    "    clicks=('offer_action', lambda x: (x == 1).sum())\n",
    ").reset_index()\n",
    "\n",
    "# Conversion rate\n",
    "offer_stats['conversion_rate'] = offer_stats['clicks'] / offer_stats['views']"
   ]
  },
  {
   "cell_type": "code",
   "execution_count": 53,
   "id": "b4388f84",
   "metadata": {},
   "outputs": [],
   "source": [
    "avg_views = offer_stats['views'].mean()\n",
    "offer_stats_filtered = offer_stats[offer_stats['views'] > avg_views]"
   ]
  },
  {
   "cell_type": "code",
   "execution_count": 54,
   "id": "967e8cb3",
   "metadata": {},
   "outputs": [],
   "source": [
    "top10_offers = offer_stats_filtered.sort_values(by='conversion_rate', ascending=False).head(10)\n",
    "top_offer_ids = top10_offers['offer_id'].tolist()"
   ]
  },
  {
   "cell_type": "code",
   "execution_count": 56,
   "id": "a6daded3",
   "metadata": {},
   "outputs": [
    {
     "data": {
      "text/plain": [
       "[2788, 60448, 62395, 721348, 25852, 1185, 82025, 353653, 260951, 281783]"
      ]
     },
     "execution_count": 56,
     "metadata": {},
     "output_type": "execute_result"
    }
   ],
   "source": [
    "top_offer_ids"
   ]
  },
  {
   "cell_type": "code",
   "execution_count": 57,
   "id": "b0da1279",
   "metadata": {},
   "outputs": [],
   "source": [
    "# Subset data to one row per offer\n",
    "category_cols = [col for col in df.columns if col.startswith('offer_category')]\n",
    "offer_categories = df[df['offer_id'].isin(top_offer_ids)][['offer_id'] + category_cols].drop_duplicates('offer_id')\n",
    "\n",
    "def get_category(row):\n",
    "    for col in category_cols:\n",
    "        if row[col] == 1:\n",
    "            return col.replace('offer_category_', '')\n",
    "    return 'Unknown'\n",
    "\n",
    "offer_categories['category'] = offer_categories.apply(get_category, axis=1)\n",
    "\n",
    "# Final mapping\n",
    "offer_mapping = dict(zip(offer_categories['offer_id'], offer_categories['category']))\n"
   ]
  },
  {
   "cell_type": "code",
   "execution_count": 58,
   "id": "cc82cfc9",
   "metadata": {},
   "outputs": [
    {
     "data": {
      "text/plain": [
       "{2788: 'shopping',\n",
       " 1185: 'entertainment',\n",
       " 281783: 'shopping',\n",
       " 25852: 'entertainment',\n",
       " 62395: 'shopping',\n",
       " 721348: 'shopping',\n",
       " 60448: 'shopping',\n",
       " 353653: 'shopping',\n",
       " 82025: 'travel',\n",
       " 260951: 'shopping'}"
      ]
     },
     "execution_count": 58,
     "metadata": {},
     "output_type": "execute_result"
    }
   ],
   "source": [
    "offer_mapping"
   ]
  },
  {
   "cell_type": "markdown",
   "id": "bbde941b",
   "metadata": {},
   "source": [
    "#### 2. Find the average 3 month spend of the customers opting for these offers as of 7th November 2023.\n"
   ]
  },
  {
   "cell_type": "code",
   "execution_count": 59,
   "id": "48f6e4ab",
   "metadata": {},
   "outputs": [],
   "source": [
    "offers_nov7 = df[\n",
    "    (df['event_date'] == pd.Timestamp(\"2023-11-07\")) &\n",
    "    (df['offer_id'].isin(top10_offers[\"offer_id\"])) &\n",
    "    (df['offer_action'] == 1)  \n",
    "]"
   ]
  },
  {
   "cell_type": "code",
   "execution_count": 61,
   "id": "b01cd4a4",
   "metadata": {},
   "outputs": [
    {
     "name": "stderr",
     "output_type": "stream",
     "text": [
      "C:\\Users\\kanis\\AppData\\Local\\Temp\\ipykernel_17524\\3067717981.py:1: SettingWithCopyWarning: \n",
      "A value is trying to be set on a copy of a slice from a DataFrame.\n",
      "Try using .loc[row_indexer,col_indexer] = value instead\n",
      "\n",
      "See the caveats in the documentation: https://pandas.pydata.org/pandas-docs/stable/user_guide/indexing.html#returning-a-view-versus-a-copy\n",
      "  offers_nov7['spend_3mo'] = offers_nov7[\n"
     ]
    }
   ],
   "source": [
    "offers_nov7['spend_3mo'] = offers_nov7[\n",
    "    ['spend_lifestyle_3mo', 'spend_electronics_3mo', 'spend_restaurant_3mo']\n",
    "].sum(axis=1)\n",
    "\n",
    "\n",
    "max_spend_per_customer_3mo = offers_nov7.groupby('customer_id')['spend_3mo'].max().reset_index()\n",
    "\n"
   ]
  },
  {
   "cell_type": "code",
   "execution_count": 63,
   "id": "a16a7667",
   "metadata": {},
   "outputs": [
    {
     "name": "stdout",
     "output_type": "stream",
     "text": [
      "\n",
      "Q2: Average 3-month spend for customers opting for top 10 offers on 7th Nov 2023:\n",
      "2305.336\n"
     ]
    }
   ],
   "source": [
    "avg_spend_3mo = np.floor(max_spend_per_customer_3mo['spend_3mo'].mean() * 1000) / 1000\n",
    "\n",
    "print(\"\\nQ2: Average 3-month spend for customers opting for top 10 offers on 7th Nov 2023:\")\n",
    "print(avg_spend_3mo)"
   ]
  },
  {
   "cell_type": "markdown",
   "id": "e348cab9",
   "metadata": {},
   "source": [
    "#### 3. Find the average conversion rate for customers enrolling for each of these offers over the last 30 days as of 7th November 2023.\n",
    "Note: A Top Offer must be presented to Users at least above the average offer presentation count\n"
   ]
  },
  {
   "cell_type": "code",
   "execution_count": 64,
   "id": "d4c351f0",
   "metadata": {},
   "outputs": [],
   "source": [
    "last_30_days = df[\n",
    "    (df['event_date'] >= '2023-10-08') &\n",
    "    (df['event_date'] <= '2023-11-07') &\n",
    "    (df['offer_id'].isin(top_offer_ids))\n",
    "]\n",
    "\n",
    "offer_last30 = last_30_days.groupby('offer_id').agg(\n",
    "    views=('offer_action', 'count'),\n",
    "    clicks=('offer_action', lambda x: (x == 1).sum())\n",
    ").reset_index()\n",
    "\n",
    "offer_last30['conversion_rate'] = (offer_last30['clicks'] / offer_last30['views']).fillna(0)\n",
    "offer_last30['conversion_rate'] = offer_last30['conversion_rate'].apply(lambda x: round(x, 3))\n",
    "conversion_mapping = dict(zip(offer_last30['offer_id'], offer_last30['conversion_rate']))\n"
   ]
  },
  {
   "cell_type": "code",
   "execution_count": 65,
   "id": "27260a8f",
   "metadata": {},
   "outputs": [
    {
     "data": {
      "text/plain": [
       "{1185: 0.209,\n",
       " 2788: 0.26,\n",
       " 25852: 0.207,\n",
       " 60448: 0.215,\n",
       " 62395: 0.28,\n",
       " 82025: 0.186,\n",
       " 260951: 0.137,\n",
       " 281783: 0.151,\n",
       " 353653: 0.153,\n",
       " 721348: 0.259}"
      ]
     },
     "execution_count": 65,
     "metadata": {},
     "output_type": "execute_result"
    }
   ],
   "source": [
    "conversion_mapping"
   ]
  },
  {
   "cell_type": "markdown",
   "id": "d5983048",
   "metadata": {},
   "source": [
    "### Question 5: Using the data build top 15 customer profiles basis the offer conversion rate who have participated in our email campaigns in the past 30 days as of 14th November 2023. [Offer conversion rate = Number of Offers Clicked/ Number of Offers viewed]\n",
    "\n",
    "\n",
    "\n"
   ]
  },
  {
   "cell_type": "markdown",
   "id": "ea55fd50",
   "metadata": {},
   "source": [
    "#### 1. Find the ratio of total offer clicks to count of distinct channels used to visit Amex portal in the past 30 days as of 14th November 2023 for these top 15 customers.\n"
   ]
  },
  {
   "cell_type": "markdown",
   "id": "20291772",
   "metadata": {},
   "source": [
    "#### 2. What is the overall top performing offer category for each of these customers."
   ]
  },
  {
   "cell_type": "markdown",
   "id": "661333ca",
   "metadata": {},
   "source": [
    "#### 3. To evaluate the performance of the email campaign, find the ratio of email offer clicks to email offers sent out for each customer in the past 30 days as of 14th November 2023.\n"
   ]
  },
  {
   "cell_type": "code",
   "execution_count": 82,
   "id": "909c607f",
   "metadata": {},
   "outputs": [],
   "source": [
    "df_emails_opted = df[(df[\"emails_clicked_30d\"]>0) & (df[\"event_date\"]==pd.Timestamp(\"2023-11-14\"))]"
   ]
  },
  {
   "cell_type": "code",
   "execution_count": 97,
   "id": "1c1e6ae5",
   "metadata": {},
   "outputs": [
    {
     "data": {
      "text/html": [
       "<div>\n",
       "<style scoped>\n",
       "    .dataframe tbody tr th:only-of-type {\n",
       "        vertical-align: middle;\n",
       "    }\n",
       "\n",
       "    .dataframe tbody tr th {\n",
       "        vertical-align: top;\n",
       "    }\n",
       "\n",
       "    .dataframe thead th {\n",
       "        text-align: right;\n",
       "    }\n",
       "</style>\n",
       "<table border=\"1\" class=\"dataframe\">\n",
       "  <thead>\n",
       "    <tr style=\"text-align: right;\">\n",
       "      <th></th>\n",
       "      <th>customer_id</th>\n",
       "      <th>login_channel_count_30d</th>\n",
       "    </tr>\n",
       "  </thead>\n",
       "  <tbody>\n",
       "    <tr>\n",
       "      <th>20359</th>\n",
       "      <td>1462824</td>\n",
       "      <td>66.0</td>\n",
       "    </tr>\n",
       "    <tr>\n",
       "      <th>20360</th>\n",
       "      <td>1462824</td>\n",
       "      <td>66.0</td>\n",
       "    </tr>\n",
       "    <tr>\n",
       "      <th>20365</th>\n",
       "      <td>1462824</td>\n",
       "      <td>66.0</td>\n",
       "    </tr>\n",
       "    <tr>\n",
       "      <th>20368</th>\n",
       "      <td>1462824</td>\n",
       "      <td>66.0</td>\n",
       "    </tr>\n",
       "    <tr>\n",
       "      <th>20370</th>\n",
       "      <td>1462824</td>\n",
       "      <td>66.0</td>\n",
       "    </tr>\n",
       "    <tr>\n",
       "      <th>...</th>\n",
       "      <td>...</td>\n",
       "      <td>...</td>\n",
       "    </tr>\n",
       "    <tr>\n",
       "      <th>1746353</th>\n",
       "      <td>1462824</td>\n",
       "      <td>66.0</td>\n",
       "    </tr>\n",
       "    <tr>\n",
       "      <th>1756304</th>\n",
       "      <td>1825990</td>\n",
       "      <td>5.0</td>\n",
       "    </tr>\n",
       "    <tr>\n",
       "      <th>1760685</th>\n",
       "      <td>1293353</td>\n",
       "      <td>76.0</td>\n",
       "    </tr>\n",
       "    <tr>\n",
       "      <th>1763922</th>\n",
       "      <td>1543730</td>\n",
       "      <td>81.0</td>\n",
       "    </tr>\n",
       "    <tr>\n",
       "      <th>1766857</th>\n",
       "      <td>1100967</td>\n",
       "      <td>10.0</td>\n",
       "    </tr>\n",
       "  </tbody>\n",
       "</table>\n",
       "<p>5585 rows × 2 columns</p>\n",
       "</div>"
      ],
      "text/plain": [
       "         customer_id  login_channel_count_30d\n",
       "20359        1462824                     66.0\n",
       "20360        1462824                     66.0\n",
       "20365        1462824                     66.0\n",
       "20368        1462824                     66.0\n",
       "20370        1462824                     66.0\n",
       "...              ...                      ...\n",
       "1746353      1462824                     66.0\n",
       "1756304      1825990                      5.0\n",
       "1760685      1293353                     76.0\n",
       "1763922      1543730                     81.0\n",
       "1766857      1100967                     10.0\n",
       "\n",
       "[5585 rows x 2 columns]"
      ]
     },
     "execution_count": 97,
     "metadata": {},
     "output_type": "execute_result"
    }
   ],
   "source": [
    "df_emails_opted[[\"customer_id\",\"login_channel_count_30d\"]]"
   ]
  },
  {
   "cell_type": "code",
   "execution_count": null,
   "id": "e006bba2",
   "metadata": {},
   "outputs": [],
   "source": [
    "customer_level_conversions = df_emails_opted.groupby(\"customer_id\").agg(\n",
    "    total_views=(\"offer_action\", \"count\"),  \n",
    "    total_clicks=(\"offer_action\", lambda x: (x==1).sum()),\n",
    "    login_channels=(\"login_channel_count_30d\", \"max\")\n",
    ").reset_index()\n",
    "\n",
    "customer_level_conversions[\"conversion_rate\"] = customer_level_conversions[\"total_clicks\"] / customer_level_conversions[\"total_views\"]\n",
    "\n",
    "top_15_customers = customer_level_conversions[customer_level_conversions[\"login_channels\"].notna()].sort_values(by=\"conversion_rate\",ascending=False).head(15)"
   ]
  },
  {
   "cell_type": "code",
   "execution_count": 105,
   "id": "b10e916f",
   "metadata": {},
   "outputs": [],
   "source": [
    "top_15_customers[\"ratio\"] = top_15_customers[\"total_clicks\"]/top_15_customers[\"login_channels\"]\n",
    "top_15_customers['ratio'] = top_15_customers['ratio'].apply(lambda x: round(x, 3))"
   ]
  },
  {
   "cell_type": "code",
   "execution_count": 151,
   "id": "357157da",
   "metadata": {},
   "outputs": [],
   "source": [
    "ans_1 = top_15_customers[[\"customer_id\",\"ratio\"]]"
   ]
  },
  {
   "cell_type": "code",
   "execution_count": 109,
   "id": "3faedbaf",
   "metadata": {},
   "outputs": [],
   "source": [
    "top_performing_cat = df[df[\"customer_id\"].isin(top_15_customers[\"customer_id\"])]"
   ]
  },
  {
   "cell_type": "code",
   "execution_count": 121,
   "id": "c1018bee",
   "metadata": {},
   "outputs": [],
   "source": [
    "top_performing_cat_sum = top_performing_cat.groupby(\"customer_id\").agg(\n",
    "    business = (\"offer_category_business\",\"sum\"),\n",
    "    dining = (\"offer_category_dining\",\"sum\"),\n",
    "    entertainment = (\"offer_category_entertainment\",\"sum\"),\n",
    "    retail = (\"offer_category_retail\",\"sum\"),\n",
    "    services = (\"offer_category_services\",\"sum\"),\n",
    "    shopping = (\"offer_category_shopping\",\"sum\"),\n",
    "    travel = (\"offer_category_travel\",\"sum\")\n",
    ").reset_index()"
   ]
  },
  {
   "cell_type": "code",
   "execution_count": 123,
   "id": "1fce5ecc",
   "metadata": {},
   "outputs": [],
   "source": [
    "category_cols = ['business', 'dining', 'entertainment', 'retail', 'services', 'shopping', 'travel']\n",
    "top_performing_cat_sum['top_category'] = top_performing_cat_sum[category_cols].idxmax(axis=1)"
   ]
  },
  {
   "cell_type": "code",
   "execution_count": 152,
   "id": "50d9ddd9",
   "metadata": {},
   "outputs": [],
   "source": [
    "ans_2 = top_performing_cat_sum[[\"customer_id\",\"top_category\"]]"
   ]
  },
  {
   "cell_type": "code",
   "execution_count": 128,
   "id": "86f8ab3b",
   "metadata": {},
   "outputs": [
    {
     "data": {
      "text/plain": [
       "Index(['customer_id', 'offer_id', 'event_date', 'offer_action',\n",
       "       'interest_carrental', 'interest_coffee', 'interest_shipping_b2b',\n",
       "       'interest_photography_hobby', 'interest_warehouse_b2b',\n",
       "       'interest_construction_b2b', 'interest_furnishing_furniture',\n",
       "       'interest_restaurant_non_qsr', 'interest_airlines',\n",
       "       'interest_professional_service_b2b', 'interest_electronics',\n",
       "       'interest_homeimprovement_hobby', 'login_channel_count_30d',\n",
       "       'emails_sent_30d', 'emails_clicked_30d', 'emails_opted_out_30d',\n",
       "       'spend_lifestyle_3mo', 'spend_electronics_3mo', 'spend_restaurant_3mo',\n",
       "       'debit_airline_30d', 'debit_entertainment_30d', 'debit_financial_30d',\n",
       "       'debit_oil_gas_30d', 'debit_lodging_30d', 'debit_restaurant_30d',\n",
       "       'debit_retail_30d', 'debit_travel_transport_rental_30d',\n",
       "       'debit_utilities_30d', 'debit_communication_30d',\n",
       "       'debit_everything_else_30d', 'offer_clicked_3d_flag',\n",
       "       'min_spend_for_offer', 'merchant_offer_discount_rate',\n",
       "       'merchant_offer_discount_value', 'membership_reward_points',\n",
       "       'reward_points_per_dollar', 'discount_per_dollar',\n",
       "       'offer_duration_diff', 'rolling_clicks_30d', 'rolling_impressions_30d',\n",
       "       'ctr_same_merchant_30d', 'avg_offer_ctr', 'impressions_offer_3d',\n",
       "       'offer_category_business', 'offer_category_dining',\n",
       "       'offer_category_entertainment', 'offer_category_retail',\n",
       "       'offer_category_services', 'offer_category_shopping',\n",
       "       'offer_category_travel', 'type_of_cust', 'total_spend_3mo',\n",
       "       'saved_money', 'offer_type', 'max_spend_3mo', 'spend_category'],\n",
       "      dtype='object')"
      ]
     },
     "execution_count": 128,
     "metadata": {},
     "output_type": "execute_result"
    }
   ],
   "source": [
    "df.columns"
   ]
  },
  {
   "cell_type": "code",
   "execution_count": 130,
   "id": "99cf5382",
   "metadata": {},
   "outputs": [],
   "source": [
    "new = df_emails_opted[df_emails_opted[\"customer_id\"].isin(top_performing_cat_sum[\"customer_id\"])][[\"customer_id\",\"emails_clicked_30d\",\"emails_sent_30d\"]]"
   ]
  },
  {
   "cell_type": "code",
   "execution_count": 135,
   "id": "68c35c0b",
   "metadata": {},
   "outputs": [
    {
     "data": {
      "text/html": [
       "<div>\n",
       "<style scoped>\n",
       "    .dataframe tbody tr th:only-of-type {\n",
       "        vertical-align: middle;\n",
       "    }\n",
       "\n",
       "    .dataframe tbody tr th {\n",
       "        vertical-align: top;\n",
       "    }\n",
       "\n",
       "    .dataframe thead th {\n",
       "        text-align: right;\n",
       "    }\n",
       "</style>\n",
       "<table border=\"1\" class=\"dataframe\">\n",
       "  <thead>\n",
       "    <tr style=\"text-align: right;\">\n",
       "      <th></th>\n",
       "      <th>customer_id</th>\n",
       "      <th>emails_clicked_30d</th>\n",
       "      <th>emails_sent_30d</th>\n",
       "    </tr>\n",
       "  </thead>\n",
       "  <tbody>\n",
       "    <tr>\n",
       "      <th>39914</th>\n",
       "      <td>1818348</td>\n",
       "      <td>1.0</td>\n",
       "      <td>3.0</td>\n",
       "    </tr>\n",
       "    <tr>\n",
       "      <th>39934</th>\n",
       "      <td>1818348</td>\n",
       "      <td>1.0</td>\n",
       "      <td>3.0</td>\n",
       "    </tr>\n",
       "    <tr>\n",
       "      <th>39950</th>\n",
       "      <td>1818348</td>\n",
       "      <td>1.0</td>\n",
       "      <td>3.0</td>\n",
       "    </tr>\n",
       "    <tr>\n",
       "      <th>39956</th>\n",
       "      <td>1818348</td>\n",
       "      <td>1.0</td>\n",
       "      <td>3.0</td>\n",
       "    </tr>\n",
       "    <tr>\n",
       "      <th>39984</th>\n",
       "      <td>1818348</td>\n",
       "      <td>1.0</td>\n",
       "      <td>3.0</td>\n",
       "    </tr>\n",
       "    <tr>\n",
       "      <th>...</th>\n",
       "      <td>...</td>\n",
       "      <td>...</td>\n",
       "      <td>...</td>\n",
       "    </tr>\n",
       "    <tr>\n",
       "      <th>1666434</th>\n",
       "      <td>1743204</td>\n",
       "      <td>3.0</td>\n",
       "      <td>6.0</td>\n",
       "    </tr>\n",
       "    <tr>\n",
       "      <th>1666446</th>\n",
       "      <td>1743204</td>\n",
       "      <td>3.0</td>\n",
       "      <td>6.0</td>\n",
       "    </tr>\n",
       "    <tr>\n",
       "      <th>1666449</th>\n",
       "      <td>1743204</td>\n",
       "      <td>3.0</td>\n",
       "      <td>6.0</td>\n",
       "    </tr>\n",
       "    <tr>\n",
       "      <th>1666452</th>\n",
       "      <td>1743204</td>\n",
       "      <td>3.0</td>\n",
       "      <td>6.0</td>\n",
       "    </tr>\n",
       "    <tr>\n",
       "      <th>1722657</th>\n",
       "      <td>1516236</td>\n",
       "      <td>7.0</td>\n",
       "      <td>1.0</td>\n",
       "    </tr>\n",
       "  </tbody>\n",
       "</table>\n",
       "<p>603 rows × 3 columns</p>\n",
       "</div>"
      ],
      "text/plain": [
       "         customer_id  emails_clicked_30d  emails_sent_30d\n",
       "39914        1818348                 1.0              3.0\n",
       "39934        1818348                 1.0              3.0\n",
       "39950        1818348                 1.0              3.0\n",
       "39956        1818348                 1.0              3.0\n",
       "39984        1818348                 1.0              3.0\n",
       "...              ...                 ...              ...\n",
       "1666434      1743204                 3.0              6.0\n",
       "1666446      1743204                 3.0              6.0\n",
       "1666449      1743204                 3.0              6.0\n",
       "1666452      1743204                 3.0              6.0\n",
       "1722657      1516236                 7.0              1.0\n",
       "\n",
       "[603 rows x 3 columns]"
      ]
     },
     "execution_count": 135,
     "metadata": {},
     "output_type": "execute_result"
    }
   ],
   "source": [
    "new"
   ]
  },
  {
   "cell_type": "code",
   "execution_count": 141,
   "id": "1ee6c02e",
   "metadata": {},
   "outputs": [],
   "source": [
    "new_df = new.groupby(\"customer_id\").agg(\n",
    "    emails_clicked = (\"emails_clicked_30d\",\"max\"),\n",
    "    emails_sent = (\"emails_sent_30d\",\"max\")\n",
    ").reset_index()\n",
    "\n"
   ]
  },
  {
   "cell_type": "code",
   "execution_count": 157,
   "id": "f478a184",
   "metadata": {},
   "outputs": [],
   "source": [
    "new_df[\"email_performance\"] = new_df[\"emails_clicked\"]/new_df[\"emails_sent\"]\n",
    "new_df[\"email_performnace\"] = new_df[\"email_performance\"].apply(lambda x: round(x,3))"
   ]
  },
  {
   "cell_type": "code",
   "execution_count": 164,
   "id": "2d2eb0c2",
   "metadata": {},
   "outputs": [
    {
     "data": {
      "text/html": [
       "<div>\n",
       "<style scoped>\n",
       "    .dataframe tbody tr th:only-of-type {\n",
       "        vertical-align: middle;\n",
       "    }\n",
       "\n",
       "    .dataframe tbody tr th {\n",
       "        vertical-align: top;\n",
       "    }\n",
       "\n",
       "    .dataframe thead th {\n",
       "        text-align: right;\n",
       "    }\n",
       "</style>\n",
       "<table border=\"1\" class=\"dataframe\">\n",
       "  <thead>\n",
       "    <tr style=\"text-align: right;\">\n",
       "      <th></th>\n",
       "      <th>customer_id</th>\n",
       "      <th>emails_clicked</th>\n",
       "      <th>emails_sent</th>\n",
       "      <th>email_performance</th>\n",
       "      <th>email_performnace</th>\n",
       "    </tr>\n",
       "  </thead>\n",
       "  <tbody>\n",
       "    <tr>\n",
       "      <th>0</th>\n",
       "      <td>1099056</td>\n",
       "      <td>1.0</td>\n",
       "      <td>5.0</td>\n",
       "      <td>0.200000</td>\n",
       "      <td>0.200</td>\n",
       "    </tr>\n",
       "    <tr>\n",
       "      <th>1</th>\n",
       "      <td>1100615</td>\n",
       "      <td>2.0</td>\n",
       "      <td>6.0</td>\n",
       "      <td>0.333333</td>\n",
       "      <td>0.333</td>\n",
       "    </tr>\n",
       "    <tr>\n",
       "      <th>2</th>\n",
       "      <td>1204750</td>\n",
       "      <td>1.0</td>\n",
       "      <td>4.0</td>\n",
       "      <td>0.250000</td>\n",
       "      <td>0.250</td>\n",
       "    </tr>\n",
       "    <tr>\n",
       "      <th>3</th>\n",
       "      <td>1281052</td>\n",
       "      <td>1.0</td>\n",
       "      <td>3.0</td>\n",
       "      <td>0.333333</td>\n",
       "      <td>0.333</td>\n",
       "    </tr>\n",
       "    <tr>\n",
       "      <th>4</th>\n",
       "      <td>1346740</td>\n",
       "      <td>1.0</td>\n",
       "      <td>10.0</td>\n",
       "      <td>0.100000</td>\n",
       "      <td>0.100</td>\n",
       "    </tr>\n",
       "    <tr>\n",
       "      <th>5</th>\n",
       "      <td>1355885</td>\n",
       "      <td>1.0</td>\n",
       "      <td>4.0</td>\n",
       "      <td>0.250000</td>\n",
       "      <td>0.250</td>\n",
       "    </tr>\n",
       "    <tr>\n",
       "      <th>6</th>\n",
       "      <td>1422016</td>\n",
       "      <td>1.0</td>\n",
       "      <td>9.0</td>\n",
       "      <td>0.111111</td>\n",
       "      <td>0.111</td>\n",
       "    </tr>\n",
       "    <tr>\n",
       "      <th>7</th>\n",
       "      <td>1516236</td>\n",
       "      <td>7.0</td>\n",
       "      <td>1.0</td>\n",
       "      <td>7.000000</td>\n",
       "      <td>7.000</td>\n",
       "    </tr>\n",
       "    <tr>\n",
       "      <th>8</th>\n",
       "      <td>1669808</td>\n",
       "      <td>1.0</td>\n",
       "      <td>8.0</td>\n",
       "      <td>0.125000</td>\n",
       "      <td>0.125</td>\n",
       "    </tr>\n",
       "    <tr>\n",
       "      <th>9</th>\n",
       "      <td>1706323</td>\n",
       "      <td>2.0</td>\n",
       "      <td>6.0</td>\n",
       "      <td>0.333333</td>\n",
       "      <td>0.333</td>\n",
       "    </tr>\n",
       "    <tr>\n",
       "      <th>10</th>\n",
       "      <td>1718795</td>\n",
       "      <td>1.0</td>\n",
       "      <td>3.0</td>\n",
       "      <td>0.333333</td>\n",
       "      <td>0.333</td>\n",
       "    </tr>\n",
       "    <tr>\n",
       "      <th>11</th>\n",
       "      <td>1743204</td>\n",
       "      <td>3.0</td>\n",
       "      <td>6.0</td>\n",
       "      <td>0.500000</td>\n",
       "      <td>0.500</td>\n",
       "    </tr>\n",
       "    <tr>\n",
       "      <th>12</th>\n",
       "      <td>1791039</td>\n",
       "      <td>7.0</td>\n",
       "      <td>3.0</td>\n",
       "      <td>2.333333</td>\n",
       "      <td>2.333</td>\n",
       "    </tr>\n",
       "    <tr>\n",
       "      <th>13</th>\n",
       "      <td>1818348</td>\n",
       "      <td>1.0</td>\n",
       "      <td>3.0</td>\n",
       "      <td>0.333333</td>\n",
       "      <td>0.333</td>\n",
       "    </tr>\n",
       "    <tr>\n",
       "      <th>14</th>\n",
       "      <td>1901806</td>\n",
       "      <td>5.0</td>\n",
       "      <td>6.0</td>\n",
       "      <td>0.833333</td>\n",
       "      <td>0.833</td>\n",
       "    </tr>\n",
       "  </tbody>\n",
       "</table>\n",
       "</div>"
      ],
      "text/plain": [
       "    customer_id  emails_clicked  emails_sent  email_performance  \\\n",
       "0       1099056             1.0          5.0           0.200000   \n",
       "1       1100615             2.0          6.0           0.333333   \n",
       "2       1204750             1.0          4.0           0.250000   \n",
       "3       1281052             1.0          3.0           0.333333   \n",
       "4       1346740             1.0         10.0           0.100000   \n",
       "5       1355885             1.0          4.0           0.250000   \n",
       "6       1422016             1.0          9.0           0.111111   \n",
       "7       1516236             7.0          1.0           7.000000   \n",
       "8       1669808             1.0          8.0           0.125000   \n",
       "9       1706323             2.0          6.0           0.333333   \n",
       "10      1718795             1.0          3.0           0.333333   \n",
       "11      1743204             3.0          6.0           0.500000   \n",
       "12      1791039             7.0          3.0           2.333333   \n",
       "13      1818348             1.0          3.0           0.333333   \n",
       "14      1901806             5.0          6.0           0.833333   \n",
       "\n",
       "    email_performnace  \n",
       "0               0.200  \n",
       "1               0.333  \n",
       "2               0.250  \n",
       "3               0.333  \n",
       "4               0.100  \n",
       "5               0.250  \n",
       "6               0.111  \n",
       "7               7.000  \n",
       "8               0.125  \n",
       "9               0.333  \n",
       "10              0.333  \n",
       "11              0.500  \n",
       "12              2.333  \n",
       "13              0.333  \n",
       "14              0.833  "
      ]
     },
     "execution_count": 164,
     "metadata": {},
     "output_type": "execute_result"
    }
   ],
   "source": [
    "new_df"
   ]
  },
  {
   "cell_type": "code",
   "execution_count": 158,
   "id": "96aee702",
   "metadata": {},
   "outputs": [],
   "source": [
    "ans_3 = new_df[[\"customer_id\",\"email_performance\"]]"
   ]
  },
  {
   "cell_type": "code",
   "execution_count": 159,
   "id": "2269f557",
   "metadata": {},
   "outputs": [
    {
     "data": {
      "text/html": [
       "<div>\n",
       "<style scoped>\n",
       "    .dataframe tbody tr th:only-of-type {\n",
       "        vertical-align: middle;\n",
       "    }\n",
       "\n",
       "    .dataframe tbody tr th {\n",
       "        vertical-align: top;\n",
       "    }\n",
       "\n",
       "    .dataframe thead th {\n",
       "        text-align: right;\n",
       "    }\n",
       "</style>\n",
       "<table border=\"1\" class=\"dataframe\">\n",
       "  <thead>\n",
       "    <tr style=\"text-align: right;\">\n",
       "      <th></th>\n",
       "      <th>customer_id</th>\n",
       "      <th>ratio</th>\n",
       "    </tr>\n",
       "  </thead>\n",
       "  <tbody>\n",
       "    <tr>\n",
       "      <th>39</th>\n",
       "      <td>1355885</td>\n",
       "      <td>0.028</td>\n",
       "    </tr>\n",
       "    <tr>\n",
       "      <th>56</th>\n",
       "      <td>1516236</td>\n",
       "      <td>0.014</td>\n",
       "    </tr>\n",
       "    <tr>\n",
       "      <th>9</th>\n",
       "      <td>1100615</td>\n",
       "      <td>3.444</td>\n",
       "    </tr>\n",
       "    <tr>\n",
       "      <th>20</th>\n",
       "      <td>1204750</td>\n",
       "      <td>0.042</td>\n",
       "    </tr>\n",
       "    <tr>\n",
       "      <th>38</th>\n",
       "      <td>1346740</td>\n",
       "      <td>0.500</td>\n",
       "    </tr>\n",
       "    <tr>\n",
       "      <th>77</th>\n",
       "      <td>1706323</td>\n",
       "      <td>0.056</td>\n",
       "    </tr>\n",
       "    <tr>\n",
       "      <th>96</th>\n",
       "      <td>1818348</td>\n",
       "      <td>0.333</td>\n",
       "    </tr>\n",
       "    <tr>\n",
       "      <th>25</th>\n",
       "      <td>1281052</td>\n",
       "      <td>0.250</td>\n",
       "    </tr>\n",
       "    <tr>\n",
       "      <th>8</th>\n",
       "      <td>1099056</td>\n",
       "      <td>0.125</td>\n",
       "    </tr>\n",
       "    <tr>\n",
       "      <th>71</th>\n",
       "      <td>1669808</td>\n",
       "      <td>0.078</td>\n",
       "    </tr>\n",
       "    <tr>\n",
       "      <th>80</th>\n",
       "      <td>1718795</td>\n",
       "      <td>0.400</td>\n",
       "    </tr>\n",
       "    <tr>\n",
       "      <th>107</th>\n",
       "      <td>1901806</td>\n",
       "      <td>0.030</td>\n",
       "    </tr>\n",
       "    <tr>\n",
       "      <th>92</th>\n",
       "      <td>1791039</td>\n",
       "      <td>0.444</td>\n",
       "    </tr>\n",
       "    <tr>\n",
       "      <th>45</th>\n",
       "      <td>1422016</td>\n",
       "      <td>0.077</td>\n",
       "    </tr>\n",
       "    <tr>\n",
       "      <th>84</th>\n",
       "      <td>1743204</td>\n",
       "      <td>0.040</td>\n",
       "    </tr>\n",
       "  </tbody>\n",
       "</table>\n",
       "</div>"
      ],
      "text/plain": [
       "     customer_id  ratio\n",
       "39       1355885  0.028\n",
       "56       1516236  0.014\n",
       "9        1100615  3.444\n",
       "20       1204750  0.042\n",
       "38       1346740  0.500\n",
       "77       1706323  0.056\n",
       "96       1818348  0.333\n",
       "25       1281052  0.250\n",
       "8        1099056  0.125\n",
       "71       1669808  0.078\n",
       "80       1718795  0.400\n",
       "107      1901806  0.030\n",
       "92       1791039  0.444\n",
       "45       1422016  0.077\n",
       "84       1743204  0.040"
      ]
     },
     "execution_count": 159,
     "metadata": {},
     "output_type": "execute_result"
    }
   ],
   "source": [
    "ans_1"
   ]
  },
  {
   "cell_type": "code",
   "execution_count": 160,
   "id": "5de2b2fd",
   "metadata": {},
   "outputs": [
    {
     "data": {
      "text/html": [
       "<div>\n",
       "<style scoped>\n",
       "    .dataframe tbody tr th:only-of-type {\n",
       "        vertical-align: middle;\n",
       "    }\n",
       "\n",
       "    .dataframe tbody tr th {\n",
       "        vertical-align: top;\n",
       "    }\n",
       "\n",
       "    .dataframe thead th {\n",
       "        text-align: right;\n",
       "    }\n",
       "</style>\n",
       "<table border=\"1\" class=\"dataframe\">\n",
       "  <thead>\n",
       "    <tr style=\"text-align: right;\">\n",
       "      <th></th>\n",
       "      <th>customer_id</th>\n",
       "      <th>top_category</th>\n",
       "    </tr>\n",
       "  </thead>\n",
       "  <tbody>\n",
       "    <tr>\n",
       "      <th>0</th>\n",
       "      <td>1099056</td>\n",
       "      <td>shopping</td>\n",
       "    </tr>\n",
       "    <tr>\n",
       "      <th>1</th>\n",
       "      <td>1100615</td>\n",
       "      <td>shopping</td>\n",
       "    </tr>\n",
       "    <tr>\n",
       "      <th>2</th>\n",
       "      <td>1204750</td>\n",
       "      <td>shopping</td>\n",
       "    </tr>\n",
       "    <tr>\n",
       "      <th>3</th>\n",
       "      <td>1281052</td>\n",
       "      <td>shopping</td>\n",
       "    </tr>\n",
       "    <tr>\n",
       "      <th>4</th>\n",
       "      <td>1346740</td>\n",
       "      <td>shopping</td>\n",
       "    </tr>\n",
       "    <tr>\n",
       "      <th>5</th>\n",
       "      <td>1355885</td>\n",
       "      <td>shopping</td>\n",
       "    </tr>\n",
       "    <tr>\n",
       "      <th>6</th>\n",
       "      <td>1422016</td>\n",
       "      <td>shopping</td>\n",
       "    </tr>\n",
       "    <tr>\n",
       "      <th>7</th>\n",
       "      <td>1516236</td>\n",
       "      <td>shopping</td>\n",
       "    </tr>\n",
       "    <tr>\n",
       "      <th>8</th>\n",
       "      <td>1669808</td>\n",
       "      <td>shopping</td>\n",
       "    </tr>\n",
       "    <tr>\n",
       "      <th>9</th>\n",
       "      <td>1706323</td>\n",
       "      <td>shopping</td>\n",
       "    </tr>\n",
       "    <tr>\n",
       "      <th>10</th>\n",
       "      <td>1718795</td>\n",
       "      <td>shopping</td>\n",
       "    </tr>\n",
       "    <tr>\n",
       "      <th>11</th>\n",
       "      <td>1743204</td>\n",
       "      <td>shopping</td>\n",
       "    </tr>\n",
       "    <tr>\n",
       "      <th>12</th>\n",
       "      <td>1791039</td>\n",
       "      <td>shopping</td>\n",
       "    </tr>\n",
       "    <tr>\n",
       "      <th>13</th>\n",
       "      <td>1818348</td>\n",
       "      <td>shopping</td>\n",
       "    </tr>\n",
       "    <tr>\n",
       "      <th>14</th>\n",
       "      <td>1901806</td>\n",
       "      <td>shopping</td>\n",
       "    </tr>\n",
       "  </tbody>\n",
       "</table>\n",
       "</div>"
      ],
      "text/plain": [
       "    customer_id top_category\n",
       "0       1099056     shopping\n",
       "1       1100615     shopping\n",
       "2       1204750     shopping\n",
       "3       1281052     shopping\n",
       "4       1346740     shopping\n",
       "5       1355885     shopping\n",
       "6       1422016     shopping\n",
       "7       1516236     shopping\n",
       "8       1669808     shopping\n",
       "9       1706323     shopping\n",
       "10      1718795     shopping\n",
       "11      1743204     shopping\n",
       "12      1791039     shopping\n",
       "13      1818348     shopping\n",
       "14      1901806     shopping"
      ]
     },
     "execution_count": 160,
     "metadata": {},
     "output_type": "execute_result"
    }
   ],
   "source": [
    "ans_2"
   ]
  },
  {
   "cell_type": "code",
   "execution_count": 161,
   "id": "66566d2c",
   "metadata": {},
   "outputs": [
    {
     "data": {
      "text/html": [
       "<div>\n",
       "<style scoped>\n",
       "    .dataframe tbody tr th:only-of-type {\n",
       "        vertical-align: middle;\n",
       "    }\n",
       "\n",
       "    .dataframe tbody tr th {\n",
       "        vertical-align: top;\n",
       "    }\n",
       "\n",
       "    .dataframe thead th {\n",
       "        text-align: right;\n",
       "    }\n",
       "</style>\n",
       "<table border=\"1\" class=\"dataframe\">\n",
       "  <thead>\n",
       "    <tr style=\"text-align: right;\">\n",
       "      <th></th>\n",
       "      <th>customer_id</th>\n",
       "      <th>email_performance</th>\n",
       "    </tr>\n",
       "  </thead>\n",
       "  <tbody>\n",
       "    <tr>\n",
       "      <th>0</th>\n",
       "      <td>1099056</td>\n",
       "      <td>0.200000</td>\n",
       "    </tr>\n",
       "    <tr>\n",
       "      <th>1</th>\n",
       "      <td>1100615</td>\n",
       "      <td>0.333333</td>\n",
       "    </tr>\n",
       "    <tr>\n",
       "      <th>2</th>\n",
       "      <td>1204750</td>\n",
       "      <td>0.250000</td>\n",
       "    </tr>\n",
       "    <tr>\n",
       "      <th>3</th>\n",
       "      <td>1281052</td>\n",
       "      <td>0.333333</td>\n",
       "    </tr>\n",
       "    <tr>\n",
       "      <th>4</th>\n",
       "      <td>1346740</td>\n",
       "      <td>0.100000</td>\n",
       "    </tr>\n",
       "    <tr>\n",
       "      <th>5</th>\n",
       "      <td>1355885</td>\n",
       "      <td>0.250000</td>\n",
       "    </tr>\n",
       "    <tr>\n",
       "      <th>6</th>\n",
       "      <td>1422016</td>\n",
       "      <td>0.111111</td>\n",
       "    </tr>\n",
       "    <tr>\n",
       "      <th>7</th>\n",
       "      <td>1516236</td>\n",
       "      <td>7.000000</td>\n",
       "    </tr>\n",
       "    <tr>\n",
       "      <th>8</th>\n",
       "      <td>1669808</td>\n",
       "      <td>0.125000</td>\n",
       "    </tr>\n",
       "    <tr>\n",
       "      <th>9</th>\n",
       "      <td>1706323</td>\n",
       "      <td>0.333333</td>\n",
       "    </tr>\n",
       "    <tr>\n",
       "      <th>10</th>\n",
       "      <td>1718795</td>\n",
       "      <td>0.333333</td>\n",
       "    </tr>\n",
       "    <tr>\n",
       "      <th>11</th>\n",
       "      <td>1743204</td>\n",
       "      <td>0.500000</td>\n",
       "    </tr>\n",
       "    <tr>\n",
       "      <th>12</th>\n",
       "      <td>1791039</td>\n",
       "      <td>2.333333</td>\n",
       "    </tr>\n",
       "    <tr>\n",
       "      <th>13</th>\n",
       "      <td>1818348</td>\n",
       "      <td>0.333333</td>\n",
       "    </tr>\n",
       "    <tr>\n",
       "      <th>14</th>\n",
       "      <td>1901806</td>\n",
       "      <td>0.833333</td>\n",
       "    </tr>\n",
       "  </tbody>\n",
       "</table>\n",
       "</div>"
      ],
      "text/plain": [
       "    customer_id  email_performance\n",
       "0       1099056           0.200000\n",
       "1       1100615           0.333333\n",
       "2       1204750           0.250000\n",
       "3       1281052           0.333333\n",
       "4       1346740           0.100000\n",
       "5       1355885           0.250000\n",
       "6       1422016           0.111111\n",
       "7       1516236           7.000000\n",
       "8       1669808           0.125000\n",
       "9       1706323           0.333333\n",
       "10      1718795           0.333333\n",
       "11      1743204           0.500000\n",
       "12      1791039           2.333333\n",
       "13      1818348           0.333333\n",
       "14      1901806           0.833333"
      ]
     },
     "execution_count": 161,
     "metadata": {},
     "output_type": "execute_result"
    }
   ],
   "source": [
    "ans_3"
   ]
  },
  {
   "cell_type": "markdown",
   "id": "171c946a",
   "metadata": {},
   "source": [
    "### Question 6 : Calculate the following on the entire data.\n",
    "1. The probability of clicking on marketing email offer being sent out.\n",
    "2. Calculate the probability given that the user has clicked on an offer in the past.\n",
    "Note:\n",
    "To ensure the recency bias while computing the probabilities EWMA can be leveraged across dates with alpha as 0.5 [Someone who has been clicking\n",
    "on more offers recently will have a higher chance]\n",
    "Overall Ratio of Population can be calculated by taking Average of the Ratios of a Given Population\n",
    "Answer for 1 & 2 will be a single floating-point value round value rounded off(floor) to 3 decimal places"
   ]
  },
  {
   "cell_type": "code",
   "execution_count": 163,
   "id": "81739e78",
   "metadata": {},
   "outputs": [],
   "source": [
    "df['event_date'] = pd.to_datetime(df['event_date'])\n",
    "df_sorted = df.sort_values('event_date')\n"
   ]
  },
  {
   "cell_type": "code",
   "execution_count": 164,
   "id": "692a7279",
   "metadata": {},
   "outputs": [],
   "source": [
    "# Email Click Rate per day\n",
    "daily_email_stats = df_sorted.groupby('event_date').agg(\n",
    "    email_clicks=('emails_clicked_30d', 'sum'),\n",
    "    email_sent=('emails_sent_30d', 'sum')\n",
    ")\n",
    "daily_email_stats['click_rate'] = daily_email_stats['email_clicks'] / daily_email_stats['email_sent']\n",
    "daily_email_stats['click_rate'] = daily_email_stats['click_rate'].fillna(0)\n",
    "\n",
    "# Apply EWMA\n",
    "ewma_email_prob = daily_email_stats['click_rate'].ewm(alpha=0.5).mean().mean()\n",
    "ewma_email_prob = round(ewma_email_prob, 3)\n"
   ]
  },
  {
   "cell_type": "code",
   "execution_count": 165,
   "id": "bf7a5734",
   "metadata": {},
   "outputs": [],
   "source": [
    "\n",
    "df_offer_click = df_sorted[df_sorted['offer_action'] == 1]\n",
    "\n",
    "\n",
    "daily_email_stats_offer_click = df_offer_click.groupby('event_date').agg(\n",
    "    email_clicks=('emails_clicked_30d', 'sum'),\n",
    "    email_sent=('emails_sent_30d', 'sum')\n",
    ")\n",
    "daily_email_stats_offer_click['click_rate'] = (\n",
    "    daily_email_stats_offer_click['email_clicks'] / daily_email_stats_offer_click['email_sent']\n",
    ").fillna(0)\n",
    "\n",
    "\n",
    "ewma_email_given_offer = daily_email_stats_offer_click['click_rate'].ewm(alpha=0.5).mean().mean()\n",
    "ewma_email_given_offer = round(ewma_email_given_offer, 3)\n"
   ]
  },
  {
   "cell_type": "code",
   "execution_count": 166,
   "id": "2933480a",
   "metadata": {},
   "outputs": [
    {
     "name": "stdout",
     "output_type": "stream",
     "text": [
      "Answer 1: P(email_click | email_sent) = 0.027\n",
      "Answer 2: P(email_click | offer_click) = 0.025\n"
     ]
    }
   ],
   "source": [
    "print(\"Answer 1: P(email_click | email_sent) =\", ewma_email_prob)\n",
    "print(\"Answer 2: P(email_click | offer_click) =\", ewma_email_given_offer)\n"
   ]
  }
 ],
 "metadata": {
  "kernelspec": {
   "display_name": ".venv",
   "language": "python",
   "name": "python3"
  },
  "language_info": {
   "codemirror_mode": {
    "name": "ipython",
    "version": 3
   },
   "file_extension": ".py",
   "mimetype": "text/x-python",
   "name": "python",
   "nbconvert_exporter": "python",
   "pygments_lexer": "ipython3",
   "version": "3.12.3"
  }
 },
 "nbformat": 4,
 "nbformat_minor": 5
}
